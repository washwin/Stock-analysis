{
 "cells": [
  {
   "cell_type": "code",
   "execution_count": null,
   "metadata": {},
   "outputs": [],
   "source": [
    "from pmdarima import auto_arima\n",
    "\n",
    "# Fit auto_arima model\n",
    "model = auto_arima(stock_data, seasonal=True, m=12)\n",
    "\n",
    "# Forecast future values\n",
    "forecast = model.predict(n_periods=12)\n"
   ]
  }
 ],
 "metadata": {
  "language_info": {
   "name": "python"
  }
 },
 "nbformat": 4,
 "nbformat_minor": 2
}
